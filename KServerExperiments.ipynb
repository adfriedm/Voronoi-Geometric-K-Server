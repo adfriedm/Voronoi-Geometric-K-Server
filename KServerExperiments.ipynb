{
 "cells": [
  {
   "cell_type": "code",
   "execution_count": 60,
   "metadata": {
    "collapsed": false
   },
   "outputs": [],
   "source": [
    "import numpy as np\n",
    "import matplotlib.pyplot as plt\n",
    "import scipy.spatial.distance as dist\n",
    "\n",
    "import pandas as pd\n",
    "\n",
    "from expected_min_dist import expected_dist_conf, gen_centers\n"
   ]
  },
  {
   "cell_type": "code",
   "execution_count": 71,
   "metadata": {
    "collapsed": false
   },
   "outputs": [],
   "source": [
    "def greedy_step(servers, request):\n",
    "    # Find the smallest distance between the servers and the point\n",
    "    min_idx = -1\n",
    "    min_dist = float('inf')\n",
    "    for i, server in enumerate(servers):\n",
    "        request_dist = dist.euclidean(server, request)\n",
    "        # Store if new min\n",
    "        if request_dist < min_dist:\n",
    "            min_dist = request_dist\n",
    "            min_idx = i\n",
    "    return min_idx, min_dist\n",
    "\n",
    "def heuristic_step(servers, request, nu=1.):\n",
    "    # Find the smallest distance between the servers and the point\n",
    "    min_idx = -1\n",
    "    min_dist = float('inf')\n",
    "    min_loss = float('inf')\n",
    "    for i, server in enumerate(servers):\n",
    "        request_dist = dist.euclidean(server, request)\n",
    "        # Suppose we move the server, this is the new config\n",
    "        future_servers = servers[: i] + [server] + servers[i:]\n",
    "        # Compute the future expected minimum distance\n",
    "        exp_dist = expected_dist_conf(future_servers, draw=False)\n",
    "        # This is the heuristic loss function\n",
    "        loss = request_dist + nu*exp_dist\n",
    "        # Store minimum\n",
    "        if loss < min_loss:\n",
    "            min_loss = loss\n",
    "            min_dist = request_dist\n",
    "            min_idx = i\n",
    "    return min_idx, min_dist"
   ]
  },
  {
   "cell_type": "code",
   "execution_count": 72,
   "metadata": {
    "collapsed": true
   },
   "outputs": [],
   "source": [
    "# Run a kserver algorithm\n",
    "def _run_kserver(alg_step, servers, requests, **kwargs):\n",
    "    # Copy list\n",
    "    cur_servers = list(servers)\n",
    "    total_dist = 0.\n",
    "    for request in requests:\n",
    "        # Compute next step\n",
    "        idx, min_dist = alg_step(cur_servers, request, **kwargs)\n",
    "        total_dist += min_dist\n",
    "        # Take the step\n",
    "        cur_servers[idx] = request\n",
    "    return total_dist\n",
    "\n",
    "\n",
    "def greedy_kserver(servers, requests):\n",
    "    return _run_kserver(greedy_step, servers=servers, requests=requests)\n",
    "\n",
    "def heuristic_kserver(servers, pts, nu=1.):\n",
    "    return _run_kserver(heuristic_step, servers=servers, requests=requests, nu=nu)\n",
    "\n"
   ]
  },
  {
   "cell_type": "code",
   "execution_count": 108,
   "metadata": {
    "collapsed": false
   },
   "outputs": [],
   "source": [
    "num_requests = 100\n",
    "num_servers = 15\n",
    "\n",
    "servers = gen_centers(num_servers)\n",
    "requests = gen_centers(num_requests)"
   ]
  },
  {
   "cell_type": "code",
   "execution_count": 111,
   "metadata": {
    "collapsed": false
   },
   "outputs": [
    {
     "name": "stdout",
     "output_type": "stream",
     "text": [
      "nu:  0.0\n",
      "1.0\n",
      "\n",
      "nu:  1.66666666667\n",
      "0.97958191281\n",
      "\n",
      "nu:  3.33333333333\n",
      "0.986646867335\n",
      "\n",
      "nu:  5.0\n",
      "1.00354864314\n",
      "\n",
      "nu:  6.66666666667\n",
      "1.01788842475\n",
      "\n",
      "nu:  8.33333333333\n",
      "1.01788842475\n",
      "\n",
      "nu:  10.0\n",
      "1.03983351176\n",
      "\n",
      "nu:  11.6666666667\n",
      "1.07601148925\n",
      "\n",
      "nu:  13.3333333333\n",
      "1.10524990596\n",
      "\n",
      "nu:  15.0\n",
      "1.05934437081\n",
      "\n"
     ]
    }
   ],
   "source": [
    "greedy_cost = greedy_kserver(servers, requests)\n",
    "\n",
    "for nu in np.linspace(0, num_servers, 10):\n",
    "    print \"nu: \",nu\n",
    "    print heuristic_kserver(servers, requests, nu=nu) / greedy_cost\n",
    "    print \"\""
   ]
  },
  {
   "cell_type": "code",
   "execution_count": 110,
   "metadata": {
    "collapsed": false
   },
   "outputs": [
    {
     "data": {
      "text/plain": [
       "2.7080502011022101"
      ]
     },
     "execution_count": 110,
     "metadata": {},
     "output_type": "execute_result"
    }
   ],
   "source": [
    "np.log(num_servers)"
   ]
  },
  {
   "cell_type": "code",
   "execution_count": null,
   "metadata": {
    "collapsed": true
   },
   "outputs": [],
   "source": []
  }
 ],
 "metadata": {
  "kernelspec": {
   "display_name": "Python 2",
   "language": "python",
   "name": "python2"
  },
  "language_info": {
   "codemirror_mode": {
    "name": "ipython",
    "version": 2
   },
   "file_extension": ".py",
   "mimetype": "text/x-python",
   "name": "python",
   "nbconvert_exporter": "python",
   "pygments_lexer": "ipython2",
   "version": "2.7.11"
  }
 },
 "nbformat": 4,
 "nbformat_minor": 0
}
