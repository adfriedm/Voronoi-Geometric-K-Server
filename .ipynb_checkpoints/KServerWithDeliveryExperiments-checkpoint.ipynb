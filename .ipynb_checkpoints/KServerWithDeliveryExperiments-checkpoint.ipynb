{
 "cells": [
  {
   "cell_type": "code",
   "execution_count": 1,
   "metadata": {
    "collapsed": true
   },
   "outputs": [],
   "source": [
    "import numpy as np\n",
    "import matplotlib.pyplot as plt\n",
    "%matplotlib inline\n",
    "import scipy.spatial.distance as dist\n",
    "\n",
    "import sys\n",
    "\n",
    "import pandas as pd\n",
    "\n",
    "from expected_min_dist import expected_dist_conf, gen_centers"
   ]
  },
  {
   "cell_type": "code",
   "execution_count": 2,
   "metadata": {
    "collapsed": true
   },
   "outputs": [],
   "source": [
    "def greedy_step(servers, request, pd_edges):\n",
    "    # Find the smallest distance between the servers and the point\n",
    "    min_idx = -1\n",
    "    min_dist = float('inf')\n",
    "    dest = pd_edges[request]\n",
    "    for i, server in enumerate(servers):\n",
    "        request_dist = dist.euclidean(server, request)\n",
    "        # Store if new min\n",
    "        if request_dist < min_dist:\n",
    "            min_dist = request_dist\n",
    "            min_idx = i\n",
    "    min_dist += dist.euclidean(request, dest)\n",
    "    return min_idx, min_dist\n",
    "\n",
    "def heuristic_step(servers, request, pd_edges, nu=1.):\n",
    "    # Find the smallest distance between the servers and the point\n",
    "    min_idx = -1\n",
    "    min_dist = float('inf')\n",
    "    min_loss = float('inf')\n",
    "    dest = pd_edges[request]\n",
    "    for i, server in enumerate(servers):\n",
    "        request_dist = dist.euclidean(server, request)\n",
    "        # Suppose we move the server, this is the new config\n",
    "        future_servers = servers[: i] + [dest] + servers[i+1:]\n",
    "        # Compute the future expected minimum distance\n",
    "        exp_dist = expected_dist_conf(future_servers, draw=False)\n",
    "        # This is the heuristic loss function\n",
    "        loss = request_dist + nu*exp_dist\n",
    "        # Store minimum\n",
    "        if loss < min_loss:\n",
    "            min_loss = loss\n",
    "            min_dist = request_dist\n",
    "            min_idx = i\n",
    "    min_dist += dist.euclidean(request, dest)\n",
    "    return min_idx, min_dist"
   ]
  },
  {
   "cell_type": "code",
   "execution_count": 3,
   "metadata": {
    "collapsed": true
   },
   "outputs": [],
   "source": [
    "# Run a kserver algorithm\n",
    "def _run_kserver(alg_step, servers, requests, pd_edges, **kwargs):\n",
    "    # Copy list\n",
    "    cur_servers = list(servers)\n",
    "    total_dist = 0.\n",
    "    for request in requests:\n",
    "        # Compute next step\n",
    "        idx, min_dist = alg_step(cur_servers, request, pd_edges, **kwargs)\n",
    "        total_dist += min_dist\n",
    "        # Take the step\n",
    "        cur_servers[idx] = pd_edges[request]\n",
    "    return total_dist\n",
    "\n",
    "\n",
    "def greedy_kserver(servers, requests, pd_edges):\n",
    "    return _run_kserver(greedy_step, servers=servers, requests=requests, pd_edges=pd_edges)\n",
    "\n",
    "def heuristic_kserver(servers, requests, pd_edges, nu=1.):\n",
    "    return _run_kserver(heuristic_step, servers=servers, requests=requests, pd_edges=pd_edges, nu=nu)\n",
    "\n"
   ]
  },
  {
   "cell_type": "code",
   "execution_count": 9,
   "metadata": {
    "collapsed": true
   },
   "outputs": [],
   "source": [
    "experiment1 = {\n",
    "    'num_requests': 100,\n",
    "    'num_servers': 5,\n",
    "    'num_reps': 5,\n",
    "    'num_nus': 20\n",
    "}"
   ]
  },
  {
   "cell_type": "code",
   "execution_count": 10,
   "metadata": {
    "collapsed": true
   },
   "outputs": [],
   "source": [
    "def run_mean_ratios_exp(num_requests, num_servers, num_reps, num_nus):\n",
    "    nus = np.linspace(0, 5, num_nus)\n",
    "    mean_ratios = {nu:0. for nu in nus}\n",
    "\n",
    "    for i in xrange(num_reps):\n",
    "        servers = gen_centers(num_servers)\n",
    "        requests = gen_centers(num_requests)\n",
    "        pd_edges = {req:gen_centers(1)[0] for req in requests}\n",
    "        greedy_cost = greedy_kserver(servers, requests, pd_edges)\n",
    "\n",
    "        for nu in nus:\n",
    "            mean_ratios[nu] += heuristic_kserver(servers, requests, pd_edges, nu=nu) / greedy_cost\n",
    "        print i\n",
    "\n",
    "    for k,v in mean_ratios.iteritems():\n",
    "        mean_ratios[k] = v/num_reps\n",
    "    \n",
    "        sys.stdout.flush()\n",
    "    \n",
    "    return nus, mean_ratios"
   ]
  },
  {
   "cell_type": "code",
   "execution_count": 11,
   "metadata": {
    "collapsed": true
   },
   "outputs": [],
   "source": [
    "def display_mean_ratios(num_servers, nus, mean_ratios):\n",
    "    save_path = \"results/ratio_plots/\"\n",
    "    fig, ax = plt.subplots()\n",
    "\n",
    "    ax.plot(nus, list(mean_ratios[nu] for nu in nus))\n",
    "\n",
    "    ax.set_xlabel(r\"$\\eta$\", fontsize=15)\n",
    "    ax.set_ylabel(\"Cost Ratio\", fontsize=15)\n",
    "    ax.set_title(\"Ratio heuristic to greedy (k={})\".format(num_servers))\n",
    "    plt.savefig(\"{}ave_ratio_2k{}.pdf\".format(save_path, num_servers), \n",
    "                bbox_inches='tight')"
   ]
  },
  {
   "cell_type": "code",
   "execution_count": 12,
   "metadata": {
    "collapsed": false
   },
   "outputs": [
    {
     "name": "stdout",
     "output_type": "stream",
     "text": [
      "0\n",
      "1\n",
      "2\n",
      "3\n",
      "4\n"
     ]
    },
    {
     "data": {
      "image/png": "[encoded data removed]",
      "text/plain": [
       "<matplotlib.figure.Figure at 0x11a729a50>"
      ]
     },
     "metadata": {},
     "output_type": "display_data"
    }
   ],
   "source": [
    "nus, mean_ratios = run_mean_ratios_exp(**experiment1)\n",
    "display_mean_ratios(experiment1['num_servers'], nus, mean_ratios)"
   ]
  },
  {
   "cell_type": "code",
   "execution_count": 13,
   "metadata": {
    "collapsed": false
   },
   "outputs": [
    {
     "data": {
      "text/plain": [
       "{0.0: 1.0,\n",
       " 0.26315789473684209: 1.0000162612127723,\n",
       " 0.52631578947368418: 0.9983474335635301,\n",
       " 0.78947368421052633: 0.9985720156066723,\n",
       " 1.0526315789473684: 0.9976530107059223,\n",
       " 1.3157894736842104: 0.9964052812001029,\n",
       " 1.5789473684210527: 0.994963799500152,\n",
       " 1.8421052631578947: 0.9953020381005417,\n",
       " 2.1052631578947367: 0.9949528070793223,\n",
       " 2.3684210526315788: 0.9951093303609861,\n",
       " 2.6315789473684208: 0.9947629413027833,\n",
       " 2.8947368421052628: 0.9931162289515985,\n",
       " 3.1578947368421053: 0.9936229539472071,\n",
       " 3.4210526315789473: 0.9937225785670384,\n",
       " 3.6842105263157894: 0.994684869898052,\n",
       " 3.9473684210526314: 0.9958613895248567,\n",
       " 4.2105263157894735: 0.9965337659708349,\n",
       " 4.4736842105263159: 0.9943239260114813,\n",
       " 4.7368421052631575: 0.9952514265427942,\n",
       " 5.0: 0.9985356192400807}"
      ]
     },
     "execution_count": 13,
     "metadata": {},
     "output_type": "execute_result"
    }
   ],
   "source": [
    "mean_ratios"
   ]
  },
  {
   "cell_type": "code",
   "execution_count": null,
   "metadata": {
    "collapsed": true
   },
   "outputs": [],
   "source": []
  }
 ],
 "metadata": {
  "kernelspec": {
   "display_name": "Python 2",
   "language": "python",
   "name": "python2"
  },
  "language_info": {
   "codemirror_mode": {
    "name": "ipython",
    "version": 2
   },
   "file_extension": ".py",
   "mimetype": "text/x-python",
   "name": "python",
   "nbconvert_exporter": "python",
   "pygments_lexer": "ipython2",
   "version": "2.7.11"
  }
 },
 "nbformat": 4,
 "nbformat_minor": 0
}
