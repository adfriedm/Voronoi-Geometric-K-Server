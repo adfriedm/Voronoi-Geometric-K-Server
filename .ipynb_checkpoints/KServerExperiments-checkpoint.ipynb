{
 "cells": [
  {
   "cell_type": "code",
   "execution_count": 8,
   "metadata": {
    "collapsed": false
   },
   "outputs": [],
   "source": [
    "import numpy as np\n",
    "import matplotlib.pyplot as plt\n",
    "%matplotlib inline\n",
    "import scipy.spatial.distance as dist\n",
    "\n",
    "import sys\n",
    "\n",
    "import time\n",
    "\n",
    "import pandas as pd\n",
    "\n",
    "from expected_min_dist import expected_dist_conf, gen_centers\n"
   ]
  },
  {
   "cell_type": "code",
   "execution_count": 9,
   "metadata": {
    "collapsed": false
   },
   "outputs": [],
   "source": [
    "def greedy_step(servers, request):\n",
    "    # Find the smallest distance between the servers and the point\n",
    "    min_idx = -1\n",
    "    min_dist = float('inf')\n",
    "    for i, server in enumerate(servers):\n",
    "        request_dist = dist.euclidean(server, request)\n",
    "        # Store if new min\n",
    "        if request_dist < min_dist:\n",
    "            min_dist = request_dist\n",
    "            min_idx = i\n",
    "    return min_idx, min_dist\n",
    "\n",
    "def heuristic_step(servers, request, nu=1.):\n",
    "    # Find the smallest distance between the servers and the point\n",
    "    min_idx = -1\n",
    "    min_dist = float('inf')\n",
    "    min_loss = float('inf')\n",
    "    for i, server in enumerate(servers):\n",
    "        request_dist = dist.euclidean(server, request)\n",
    "        # Suppose we move the server, this is the new config\n",
    "        future_servers = servers[: i] + [request] + servers[i+1:]\n",
    "        # Compute the future expected minimum distance\n",
    "        exp_dist = expected_dist_conf(future_servers, draw=False)\n",
    "        # This is the heuristic loss function\n",
    "        loss = request_dist + nu*exp_dist\n",
    "        # Store minimum\n",
    "        if loss < min_loss:\n",
    "            min_loss = loss\n",
    "            min_dist = request_dist\n",
    "            min_idx = i\n",
    "    return min_idx, min_dist"
   ]
  },
  {
   "cell_type": "code",
   "execution_count": 10,
   "metadata": {
    "collapsed": true
   },
   "outputs": [],
   "source": [
    "# Run a kserver algorithm\n",
    "def _run_kserver(alg_step, servers, requests, **kwargs):\n",
    "    # Copy list\n",
    "    cur_servers = list(servers)\n",
    "    total_dist = 0.\n",
    "    for request in requests:\n",
    "        # Compute next step\n",
    "        idx, min_dist = alg_step(cur_servers, request, **kwargs)\n",
    "        total_dist += min_dist\n",
    "        # Take the step\n",
    "        cur_servers[idx] = request\n",
    "    return total_dist\n",
    "\n",
    "\n",
    "def greedy_kserver(servers, requests):\n",
    "    return _run_kserver(greedy_step, servers=servers, requests=requests)\n",
    "\n",
    "def heuristic_kserver(servers, requests, nu=1.):\n",
    "    return _run_kserver(heuristic_step, servers=servers, requests=requests, nu=nu)\n",
    "\n"
   ]
  },
  {
   "cell_type": "code",
   "execution_count": 4,
   "metadata": {
    "collapsed": false
   },
   "outputs": [],
   "source": [
    "experiment1 = {\n",
    "    'num_requests': 1000,\n",
    "    'num_servers': 5,\n",
    "    'num_reps': 5,\n",
    "    'num_nus': 40\n",
    "}"
   ]
  },
  {
   "cell_type": "code",
   "execution_count": 5,
   "metadata": {
    "collapsed": false
   },
   "outputs": [],
   "source": [
    "def run_mean_ratios_exp(num_requests, num_servers, num_reps, num_nus):\n",
    "    nus = np.linspace(0, 10, num_nus)\n",
    "    mean_ratios = {nu:0. for nu in nus}\n",
    "\n",
    "    for i in xrange(num_reps):\n",
    "        #print i\n",
    "        #sys.stdout.flush()\n",
    "        servers = gen_centers(num_servers)\n",
    "        requests = gen_centers(num_requests)\n",
    "\n",
    "        greedy_cost = greedy_kserver(servers, requests)\n",
    "\n",
    "        for nu in nus:\n",
    "            #print \"\\t\", nu\n",
    "            #sys.stdout.flush()\n",
    "            mean_ratios[nu] += heuristic_kserver(servers, requests, nu=nu) \\\n",
    "                             / greedy_cost\n",
    "\n",
    "\n",
    "    for k,v in mean_ratios.iteritems():\n",
    "        mean_ratios[k] = v/num_reps\n",
    "    \n",
    "    \n",
    "    return nus, mean_ratios"
   ]
  },
  {
   "cell_type": "code",
   "execution_count": 6,
   "metadata": {
    "collapsed": false
   },
   "outputs": [],
   "source": [
    "def display_mean_ratios(num_servers, nus, mean_ratios):\n",
    "    save_path = \"results/ratio_plots/\"\n",
    "    fig, ax = plt.subplots()\n",
    "\n",
    "    ax.plot(nus, list(mean_ratios[nu] for nu in nus))\n",
    "\n",
    "    ax.set_xlabel(r\"$\\eta$\", fontsize=15)\n",
    "    ax.set_ylabel(\"Cost Ratio\", fontsize=15)\n",
    "    ax.set_title(\"Ratio heuristic to greedy (k={})\".format(num_servers))\n",
    "    plt.savefig(\"{}mean_ratio_k{}.pdf\".format(save_path, num_servers), \n",
    "                bbox_inches='tight')"
   ]
  },
  {
   "cell_type": "code",
   "execution_count": 7,
   "metadata": {
    "collapsed": false
   },
   "outputs": [
    {
     "name": "stdout",
     "output_type": "stream",
     "text": [
      "k:  5\n",
      "0\n",
      "\t0.0\n",
      "\t1.11111111111\n",
      "\t2.22222222222\n",
      "\t3.33333333333\n",
      "\t4.44444444444\n",
      "\t5.55555555556\n",
      "\t6.66666666667\n",
      "\t7.77777777778\n",
      "\t8.88888888889\n",
      "\t10.0\n",
      "1\n",
      "\t0.0\n",
      "\t1.11111111111\n",
      "\t2.22222222222\n",
      "\t3.33333333333\n",
      "\t4.44444444444\n",
      "\t5.55555555556\n",
      "\t6.66666666667\n",
      "\t7.77777777778\n",
      "\t8.88888888889\n",
      "\t10.0\n",
      "2\n",
      "\t0.0\n",
      "\t1.11111111111\n",
      "\t2.22222222222\n",
      "\t3.33333333333\n",
      "\t4.44444444444\n",
      "\t5.55555555556\n",
      "\t6.66666666667\n",
      "\t7.77777777778\n",
      "\t8.88888888889\n",
      "\t10.0\n",
      "finished 2016-12-21 12:00:04\n",
      "\n"
     ]
    },
    {
     "data": {
      "image/png": "[encoded data removed]",
      "text/plain": [
       "<matplotlib.figure.Figure at 0x106150850>"
      ]
     },
     "metadata": {},
     "output_type": "display_data"
    }
   ],
   "source": [
    "for k in xrange(5, 10):\n",
    "    print \"k: \", k\n",
    "    experiment = {\n",
    "    'num_requests': 400,\n",
    "    'num_servers': k,\n",
    "    'num_reps': 10,\n",
    "    'num_nus': 40\n",
    "    }\n",
    "    nus, mean_ratios = run_mean_ratios_exp(**experiment)\n",
    "    display_mean_ratios(experiment1['num_servers'], nus, mean_ratios)\n",
    "    print \"finished\", time.strftime(\"%Y-%m-%d %H:%M:%S\", time.gmtime())\n",
    "    print \"\""
   ]
  },
  {
   "cell_type": "code",
   "execution_count": null,
   "metadata": {
    "collapsed": true
   },
   "outputs": [],
   "source": []
  }
 ],
 "metadata": {
  "kernelspec": {
   "display_name": "Python 2",
   "language": "python",
   "name": "python2"
  },
  "language_info": {
   "codemirror_mode": {
    "name": "ipython",
    "version": 2
   },
   "file_extension": ".py",
   "mimetype": "text/x-python",
   "name": "python",
   "nbconvert_exporter": "python",
   "pygments_lexer": "ipython2",
   "version": "2.7.11"
  }
 },
 "nbformat": 4,
 "nbformat_minor": 0
}
